{
 "cells": [
  {
   "cell_type": "markdown",
   "metadata": {},
   "source": [
    "## Monte Carlo simulation for NVT Ensemble\n",
    "\n",
    "Reference: Computer Simulation of Liquid, 2017"
   ]
  },
  {
   "cell_type": "markdown",
   "metadata": {},
   "source": [
    "Import packages"
   ]
  },
  {
   "cell_type": "code",
   "execution_count": 1,
   "metadata": {},
   "outputs": [],
   "source": [
    "%matplotlib inline\n",
    "\n",
    "import numpy as np\n",
    "import matplotlib.pyplot as plt\n",
    "\n",
    "import pandas as pd\n",
    "from tqdm import tqdm\n",
    "from itertools import product"
   ]
  },
  {
   "cell_type": "markdown",
   "metadata": {},
   "source": [
    "All particles are set at the center of a simple square lattice, at the initial state"
   ]
  },
  {
   "cell_type": "code",
   "execution_count": 17,
   "metadata": {},
   "outputs": [],
   "source": [
    "def initCoords(pos, cells):\n",
    "    num = len(pos)\n",
    "    dim = len(pos[0])\n",
    "    c   = np.zeros(dim)\n",
    "    gap = 1. / cells\n",
    "\n",
    "    assert dim == 3, \"Wrong dimension, initCoords\"\n",
    "\n",
    "    n = 0\n",
    "    for i, j, k in product(range(cells[0]), range(cells[1]), range(cells[2]) ):\n",
    "\n",
    "        c      = np.array([i, j, k]) + 0.5\n",
    "        c      = c * gap\n",
    "        c      = c - 0.5\n",
    "        pos[n] = c\n",
    "        n      = n + 1\n",
    "\n",
    "        if n >= num:\n",
    "            return pos\n",
    "\n",
    "    return pos\n"
   ]
  },
  {
   "cell_type": "code",
   "execution_count": 20,
   "metadata": {},
   "outputs": [],
   "source": [
    "class PotentialType:\n",
    "    \"\"\"A compsite variable for interactions.\"\"\"\n",
    "\n",
    "    def __init__(self, pot, vir, ovr):\n",
    "        self.pot = pot # Potential Energy\n",
    "        self.vir = vir # Virial\n",
    "        self.ovr = ovr # Check if overlap\n",
    "\n",
    "    def __add__(self, other):\n",
    "        pot = self.pot + other.pot\n",
    "        vir = self.vir + other.vir\n",
    "        ovr = self.ovr or other.ovr\n",
    "        return PotentialType(pot, vir, ovr)\n",
    "\n",
    "    def __sub__(self, other):\n",
    "        pot = self.pot - other.pot\n",
    "        vir = self.vir - other.vir\n",
    "        ovr = self.ovr or other.ovr\n",
    "        return PotentialType(pot, vir, ovr)\n"
   ]
  },
  {
   "cell_type": "markdown",
   "metadata": {},
   "source": [
    "Calculate the interaction between particle $i$ and other particles.\n",
    "The Lennard-Jones potential is used."
   ]
  },
  {
   "cell_type": "code",
   "execution_count": null,
   "metadata": {},
   "outputs": [],
   "source": [
    "def potential_1( ri, box, r_cut, r ):\n",
    "\n",
    "    dim          = len(r[0])\n",
    "    r_cut_box    = r_cut / box\n",
    "    r_cut_box_sq = r_cut_box ** 2\n",
    "    box2         = box ** 2\n",
    "\n",
    "    assert dim == 3, \"Dimension error for r in potential_1\"\n",
    "\n",
    "    sr2_ovr = 1.77 # Overlap threshold (pot > 100)\n",
    "\n",
    "    rij = ri - r\n",
    "    rij = rij - np.rint(rij)  # Periodical boundary conditions\n",
    "    rij2 = np.sum(rij**2, axis = 1)\n",
    "    rij2 = rij2 * box2\n",
    "    in_range = rij2 < r_cut_box_sq\n",
    "    sr2 = np.where(in_range, 1./rij2, 0)\n",
    "\n",
    "    ovr = sr2 > sr2_ovr\n",
    "    if np.any(ovr):\n",
    "        partial = PotentialType( pot = 0.0, vir = 0.0, ovr = True)\n",
    "        return partial\n",
    "\n",
    "    sr6 = sr2 ** 3\n",
    "    sr12 = sr6 ** 2\n",
    "\n",
    "    pot = sr12 - sr6\n",
    "    vir = pot + sr12\n",
    "    partial = PotentialType ( pot=np.sum(pot), vir=np.sum(vir), ovr=False)\n",
    "\n",
    "    partial.pot = partial.pot * 4.0          # 4 * epsilon\n",
    "    partial.vir = partial.vir * 24.0 / 3.0   # 24 * epsilon and divide by 3.0\n",
    "\n",
    "    return partial\n",
    "\n",
    "def potential( box, r_cut, r ):\n",
    "    \"\"\"\n",
    "    Calculate the total energy of the system\n",
    "    \"\"\"\n",
    "\n",
    "    dim = len(r[0])\n",
    "    num = len(r)\n",
    "    assert dim == 3, \"Dimension error for r in potential\"\n",
    "\n",
    "    total = PotentialType ( pot=0.0, vir=0.0, ovr=False )\n",
    "\n",
    "    for i in range(num-1):\n",
    "        partial = potential_1 ( r[i,:], box, r_cut, r[i+1:,:] )\n",
    "        if partial.ovr:\n",
    "            total.ovr = True\n",
    "            break\n",
    "        total = total + partial\n",
    "\n",
    "    return total\n",
    "\n"
   ]
  },
  {
   "cell_type": "code",
   "execution_count": null,
   "metadata": {},
   "outputs": [],
   "source": []
  }
 ],
 "metadata": {
  "kernelspec": {
   "display_name": "base",
   "language": "python",
   "name": "python3"
  },
  "language_info": {
   "codemirror_mode": {
    "name": "ipython",
    "version": 3
   },
   "file_extension": ".py",
   "mimetype": "text/x-python",
   "name": "python",
   "nbconvert_exporter": "python",
   "pygments_lexer": "ipython3",
   "version": "3.11.5"
  }
 },
 "nbformat": 4,
 "nbformat_minor": 2
}
