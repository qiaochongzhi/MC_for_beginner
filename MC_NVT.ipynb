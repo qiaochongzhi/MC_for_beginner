{
 "cells": [
  {
   "cell_type": "markdown",
   "metadata": {},
   "source": [
    "## Monte Carlo simulation for NVT Ensemble\n",
    "\n",
    "Reference: Computer Simulation of Liquid, 2017"
   ]
  },
  {
   "cell_type": "markdown",
   "metadata": {},
   "source": [
    "Import packages"
   ]
  },
  {
   "cell_type": "code",
   "execution_count": 1,
   "metadata": {},
   "outputs": [],
   "source": [
    "%matplotlib inline\n",
    "\n",
    "import numpy as np\n",
    "import matplotlib.pyplot as plt\n",
    "\n",
    "import pandas as pd\n",
    "from tqdm import tqdm\n",
    "from itertools import product\n",
    "\n",
    "import sys\n",
    "import time\n",
    "\n",
    "from MonteCarlo import MonteCarlo\n",
    "from PotentialType import PotentialType"
   ]
  },
  {
   "cell_type": "code",
   "execution_count": 2,
   "metadata": {},
   "outputs": [],
   "source": [
    "import build.MonteCarlo as MC"
   ]
  },
  {
   "cell_type": "code",
   "execution_count": 3,
   "metadata": {},
   "outputs": [
    {
     "name": "stdout",
     "output_type": "stream",
     "text": [
      "CPP total potential: -128.72578914791444sc = 4\n",
      "\n",
      "Py  total potential: -128.72578740940781\n",
      "CPP total Virial: -247.09771281446461\n",
      "Py  total Virial: -247.09770963763188\n",
      "********* after displacement particle *********\n",
      "CPP total potential: -161.53540623905283\n",
      "CPP total potential 2: -161.53540450054564\n",
      "Py  total potential: -161.5354225282071\n",
      "CPP total Virial: 9.747633666764722\n",
      "CPP total Virial 2: 9.7476368436011\n",
      "Py  total Virial: 9.747561752198925\n"
     ]
    }
   ],
   "source": [
    "box = np.array( [10, 10, 10] )\n",
    "vol = np.prod( box )\n",
    "num = 200\n",
    "rho = float(num) / vol\n",
    "\n",
    "rCut  = 2.5\n",
    "drMax = 0.25\n",
    "cells = np.ceil( float( num  / np.prod( box ) )**(1./3.) * box )\n",
    "cells = cells.astype(np.int64)\n",
    "\n",
    "temperature = 2.\n",
    "\n",
    "r = np.zeros([num, 3])\n",
    "r = MonteCarlo.initCoords(r, cells)\n",
    "\n",
    "# Initial energy and check the particle position\n",
    "total = MonteCarlo.potential ( box, rCut, r )\n",
    "assert not total.ovr, \"Overlap in the initial configuration\"\n",
    "\n",
    "mc = MC.MonteCarlo(num, 3, temperature, rCut, True)\n",
    "mc.SetBox( box )\n",
    "\n",
    "# Initial energy and check the particle position, CPP veraion\n",
    "mc.SetPosition( r )\n",
    "total1 = mc.GetPotential()\n",
    "\n",
    "print( \"CPP total potential: \" + str(total1[\"pot\"]))\n",
    "print( \"Py  total potential: \" + str(total.pot))\n",
    "print( \"CPP total Virial: \" + str(total1[\"vir\"]))\n",
    "print( \"Py  total Virial: \" + str(total.vir))\n",
    "\n",
    "results = mc.MoveParticles( drMax )\n",
    "total2  = PotentialType ( pot=results[\"pot\"], vir=results[\"vir\"], ovr= False ) + total\n",
    "\n",
    "total1 = mc.GetPotential()\n",
    "\n",
    "r1    = mc.GetPosition()\n",
    "total = MonteCarlo.potential ( box, rCut, r1 )\n",
    "\n",
    "print(\"********* after displacement particle *********\")\n",
    "print( \"CPP total potential: \" + str(total1[\"pot\"]))\n",
    "print( \"CPP total potential 2: \" + str(total2.pot))\n",
    "print( \"Py  total potential: \" + str(total.pot))\n",
    "print( \"CPP total Virial: \" + str(total1[\"vir\"]))\n",
    "print( \"CPP total Virial 2: \" + str(total2.vir))\n",
    "print( \"Py  total Virial: \" + str(total.vir))"
   ]
  },
  {
   "cell_type": "code",
   "execution_count": 19,
   "metadata": {},
   "outputs": [
    {
     "name": "stdout",
     "output_type": "stream",
     "text": [
      "Excess Chemical Potential: -0.28058528226276175\n",
      "Chemical Potential: -1.1968760141369168\n"
     ]
    }
   ],
   "source": [
    "'''\n",
    "chemPex = np.mean( np.array(pots[1000:]))\n",
    "chemPex = - np.log( chemPex )\n",
    "print( \"Excess Chemical Potential: \" + str(chemPex) )\n",
    "chemP = np.log( 0.4 ) + chemPex\n",
    "print( \"Chemical Potential: \" + str(chemP) )\n",
    "'''"
   ]
  },
  {
   "cell_type": "code",
   "execution_count": 3,
   "metadata": {},
   "outputs": [],
   "source": [
    "system = {}\n",
    "system[\"size\"]           = np.array( [10, 10, 10] )\n",
    "system[\"temperature\"]    = 2.\n",
    "system[\"rCut\"]           = 2.5\n",
    "system[\"drMax\"]          = 0.25\n",
    "system[\"Version\"]        = \"CPP\"\n",
    "system[\"isNeighborList\"] = False"
   ]
  },
  {
   "cell_type": "code",
   "execution_count": 5,
   "metadata": {},
   "outputs": [
    {
     "name": "stdout",
     "output_type": "stream",
     "text": [
      "pressure delta: -0.00533969013773771\n",
      "Pressure lrc: -0.010694021158401335\n",
      "Internal Energy LRC: -0.05354331020663623\n"
     ]
    },
    {
     "name": "stderr",
     "output_type": "stream",
     "text": [
      " 10%|█         | 1/10 [00:04<00:36,  4.03s/it]/Users/cz/code/MC_for_beginner/MonteCarlo.py:118: RuntimeWarning: divide by zero encountered in divide\n",
      "  sr2      = np.where(in_range, 1./rij2, 0.)\n",
      "100%|██████████| 10/10 [00:38<00:00,  3.87s/it]\n"
     ]
    },
    {
     "name": "stdout",
     "output_type": "stream",
     "text": [
      "cells: 5 5 5\n",
      "0\n",
      "1000\n",
      "2000\n",
      "3000\n",
      "4000\n",
      "5000\n",
      "6000\n",
      "7000\n",
      "8000\n",
      "9000\n",
      "Running Time: 0.9304778575897217 s\n",
      "pressure delta: -0.02135876055095084\n",
      "Pressure lrc: -0.04277608463360534\n",
      "Internal Energy LRC: -0.10708662041327247\n"
     ]
    },
    {
     "name": "stderr",
     "output_type": "stream",
     "text": [
      "100%|██████████| 10/10 [01:31<00:00,  9.17s/it]\n"
     ]
    },
    {
     "name": "stdout",
     "output_type": "stream",
     "text": [
      "cells: 6 6 6\n",
      "0\n",
      "1000\n",
      "2000\n",
      "3000\n",
      "4000\n",
      "5000\n",
      "6000\n",
      "7000\n",
      "8000\n",
      "9000\n",
      "Running Time: 3.839881181716919 s\n",
      "pressure delta: -0.04805721123963938\n",
      "Pressure lrc: -0.09624619042561199\n",
      "Internal Energy LRC: -0.16062993061990868\n"
     ]
    },
    {
     "name": "stderr",
     "output_type": "stream",
     "text": [
      "100%|██████████| 10/10 [02:36<00:00, 15.60s/it]\n"
     ]
    },
    {
     "name": "stdout",
     "output_type": "stream",
     "text": [
      "cells: 7 7 7\n",
      "0\n",
      "1000\n",
      "2000\n",
      "3000\n",
      "4000\n",
      "5000\n",
      "6000\n",
      "7000\n",
      "8000\n",
      "9000\n",
      "Running Time: 9.287332773208618 s\n",
      "pressure delta: -0.08543504220380337\n",
      "Pressure lrc: -0.17110433853442136\n",
      "Internal Energy LRC: -0.21417324082654493\n"
     ]
    },
    {
     "name": "stderr",
     "output_type": "stream",
     "text": [
      "100%|██████████| 10/10 [03:47<00:00, 22.74s/it]\n"
     ]
    },
    {
     "name": "stdout",
     "output_type": "stream",
     "text": [
      "cells: 8 8 8\n",
      "Running Time: 15.425920009613037 s\n",
      "pressure delta: -0.13349225344344273\n",
      "Pressure lrc: -0.2673505289600333\n",
      "Internal Energy LRC: -0.26771655103318115\n",
      "0\n",
      "1000\n",
      "2000\n",
      "3000\n",
      "4000\n",
      "5000\n",
      "6000\n",
      "7000\n",
      "8000\n",
      "9000\n"
     ]
    },
    {
     "name": "stderr",
     "output_type": "stream",
     "text": [
      "100%|██████████| 10/10 [04:55<00:00, 29.54s/it]\n"
     ]
    },
    {
     "name": "stdout",
     "output_type": "stream",
     "text": [
      "cells: 8 8 8\n",
      "Running Time: 23.849339246749878 s\n",
      "pressure delta: -0.19222884495855752\n",
      "Pressure lrc: -0.38498476170244794\n",
      "Internal Energy LRC: -0.32125986123981737\n",
      "0\n",
      "1000\n",
      "2000\n",
      "3000\n",
      "4000\n",
      "5000\n",
      "6000\n",
      "7000\n",
      "8000\n",
      "9000\n"
     ]
    },
    {
     "name": "stderr",
     "output_type": "stream",
     "text": [
      "100%|██████████| 10/10 [06:26<00:00, 38.70s/it]\n"
     ]
    },
    {
     "name": "stdout",
     "output_type": "stream",
     "text": [
      "cells: 9 9 9\n",
      "Running Time: 34.29477787017822 s\n",
      "pressure delta: -0.26164481674914775\n",
      "Pressure lrc: -0.5240070367616652\n",
      "Internal Energy LRC: -0.3748031714464536\n",
      "0\n",
      "1000\n",
      "2000\n",
      "3000\n",
      "4000\n",
      "5000\n",
      "6000\n",
      "7000\n",
      "8000\n",
      "9000\n"
     ]
    },
    {
     "name": "stderr",
     "output_type": "stream",
     "text": [
      "100%|██████████| 10/10 [07:58<00:00, 47.81s/it]\n"
     ]
    },
    {
     "name": "stdout",
     "output_type": "stream",
     "text": [
      "cells: 9 9 9\n",
      "0\n",
      "1000\n",
      "2000\n",
      "3000\n",
      "4000\n",
      "5000\n",
      "6000\n",
      "7000\n",
      "8000\n",
      "9000\n",
      "Running Time: 45.700371980667114 s\n",
      "pressure delta: -0.34174016881521346\n",
      "Pressure lrc: -0.6844173541376855\n",
      "Internal Energy LRC: -0.42834648165308986\n"
     ]
    },
    {
     "name": "stderr",
     "output_type": "stream",
     "text": [
      "100%|██████████| 10/10 [09:37<00:00, 57.73s/it]\n"
     ]
    },
    {
     "name": "stdout",
     "output_type": "stream",
     "text": [
      "cells: 10 10 10\n",
      "Running Time: 59.06436109542847 s\n",
      "pressure delta: -0.4325149011567545\n",
      "Pressure lrc: -0.866215713830508\n",
      "Internal Energy LRC: -0.4818897918597261\n",
      "0\n",
      "1000\n",
      "2000\n",
      "3000\n",
      "4000\n",
      "5000\n",
      "6000\n",
      "7000\n",
      "8000\n",
      "9000\n"
     ]
    },
    {
     "name": "stderr",
     "output_type": "stream",
     "text": [
      "100%|██████████| 10/10 [11:25<00:00, 68.59s/it]\n"
     ]
    },
    {
     "name": "stdout",
     "output_type": "stream",
     "text": [
      "cells: 10 10 10\n",
      "Running Time: 73.24972009658813 s\n",
      "0\n",
      "1000\n",
      "2000\n",
      "3000\n",
      "4000\n",
      "5000\n",
      "6000\n",
      "7000\n",
      "8000\n",
      "9000\n"
     ]
    }
   ],
   "source": [
    "testDensity = np.arange(100, 1000, 100)\n",
    "pT  = []\n",
    "mT  = []\n",
    "tT  = []\n",
    "pT1 = []\n",
    "mT1 = []\n",
    "tT1 = []\n",
    "\n",
    "for i in testDensity:\n",
    "    system[\"numberOfParticles\"] = i\n",
    "    MC = MonteCarlo(system)\n",
    "    p,  m,  t,  pot,  _ = MC.MC_NVT()\n",
    "    p1, m1, t1, pot1, _ = MC.MC_NVT_CPP()\n",
    "\n",
    "    pT.append(p)\n",
    "    mT.append(m)\n",
    "    tT.append(t)\n",
    "\n",
    "    pT1.append(p1)\n",
    "    mT1.append(m1)\n",
    "    tT1.append(t1)\n",
    "\n"
   ]
  },
  {
   "cell_type": "code",
   "execution_count": 6,
   "metadata": {},
   "outputs": [],
   "source": [
    "presCPP = [np.mean( np.array(i[2000:]) ) for i in pT1]\n",
    "presPY  = [np.mean( np.array(i[2000:]) ) for i in pT]"
   ]
  },
  {
   "cell_type": "code",
   "execution_count": 7,
   "metadata": {},
   "outputs": [
    {
     "data": {
      "image/png": "[encoded data removed]",
      "text/plain": [
       "<Figure size 640x480 with 1 Axes>"
      ]
     },
     "metadata": {},
     "output_type": "display_data"
    }
   ],
   "source": [
    "xx1 = np.array([0.1, 0.2, 0.4, 0.5, 0.6, 0.7, 0.8, 0.9])\n",
    "xx2 = np.arange(0.1, 1.0, 0.1)\n",
    "yy1 = np.array([0.1777, 0.3290, 0.705, 1.069, 1.756, 3.024, 5.28, 9.09])\n",
    "\n",
    "plt.plot( xx1, yy1, color=\"b\", linestyle=\":\", marker=\"\" )\n",
    "plt.plot( xx2, presPY, color=\"g\", linestyle=\"\", marker=\"1\", markersize=12, label=\"Python\" )\n",
    "plt.plot( xx2, presCPP, color=\"r\", linestyle=\"\", marker=\"2\", markersize=12, label=\"C++\" )\n",
    "\n",
    "plt.xlabel(\"Density\")\n",
    "plt.ylabel(\"Pressure\")\n",
    "\n",
    "plt.legend()\n",
    "plt.show()\n",
    "\n",
    "# Data from MBWR paper 89 "
   ]
  },
  {
   "cell_type": "code",
   "execution_count": 17,
   "metadata": {},
   "outputs": [],
   "source": [
    "totU = [\n",
    "    [0.1, -0.669], [0.2, -1.308], [0.3, -1.922], [0.4, -2.539], [0.5, -3.149],\n",
    "    [0.6, -3.747], [0.7, -4.3], [0.8, -4.752], [0.9, -5.025] \n",
    "    ]\n",
    "\n",
    "totU = np.array( totU )"
   ]
  },
  {
   "cell_type": "code",
   "execution_count": 19,
   "metadata": {},
   "outputs": [
    {
     "data": {
      "image/png": "[encoded data removed]",
      "text/plain": [
       "<Figure size 640x480 with 1 Axes>"
      ]
     },
     "metadata": {},
     "output_type": "display_data"
    }
   ],
   "source": [
    "#np.mean( np.array(total[1000:] / 200) )\n",
    "#total = np.array( [i.pot for i in totalEnergy] )\n",
    "\n",
    "num = np.arange(100,1000,100)\n",
    "up  = []\n",
    "uc  = []\n",
    "for i, t in enumerate(tT1):\n",
    "    #total = t1 #np.array( [j.pot for j in t] )\n",
    "    u1 = np.mean( np.array(t[1000:]) ) / num[i]\n",
    "    u2 = np.mean( np.array(tT[i][1000:]) ) / num[i]\n",
    "    uc.append(u1)\n",
    "    up.append(u2)\n",
    "\n",
    "uc = np.array(uc)\n",
    "up = np.array(up)\n",
    "\n",
    "plt.plot( num/1000, uc, color=\"r\", linestyle=\"\", marker=\"1\", markersize=12, label=\"C++\" )\n",
    "plt.plot( num/1000, up, color=\"g\", linestyle=\"\", marker=\"2\", markersize=12, label=\"Python\" )\n",
    "plt.plot( totU[:,0], totU[:,1], color=\"b\", linestyle=\"--\", marker=\"\")\n",
    "\n",
    "plt.xlabel(\"Density\")\n",
    "plt.ylabel(\"Energy\")\n",
    "\n",
    "plt.legend()\n",
    "plt.show()"
   ]
  },
  {
   "cell_type": "code",
   "execution_count": 34,
   "metadata": {},
   "outputs": [],
   "source": [
    "testChemPex =  [\n",
    "[0.0015643994119181048, -0.04676014027405717],\n",
    "[0.0235830983764104, -0.1399367366551898],\n",
    "[0.054167170524627384, -0.27976527644299587],\n",
    "[0.08841720712062667, -0.41949834840664124],\n",
    "[0.10676612292437027, -0.4971455120575854],\n",
    "[0.13734255764665443, -0.6057242507366922],\n",
    "[0.16791517365597208, -0.6986780888614508],\n",
    "[0.19970977781455057, -0.7916001043781549],\n",
    "[0.2388324921557271, -0.8687062836921857],\n",
    "[0.27550359277244924, -0.9146263071136254],\n",
    "[0.29872518632137013, -0.9296465781149568],\n",
    "[0.32316876801955186, -0.9446350265082337],\n",
    "[0.3500486885903221, -0.9283100285767016],\n",
    "[0.3964727821233317, -0.8802260678076124],\n",
    "[0.4416596126552148, -0.7696743274291791],\n",
    "[0.4782848887163397, -0.6280955441984197],\n",
    "[0.5148948899255987, -0.4240171587502619],\n",
    "[0.5417251672278055, -0.20456845361218345],\n",
    "[0.5746462917114836, 0.09316386733791227],\n",
    "[0.5990173178633028, 0.37504852947728207],\n",
    "[0.6209443677166007, 0.6568695464005456],\n",
    "[0.6392054531221161, 0.9385950954996467],\n",
    "[0.6586770705379931, 1.2672271688698515],\n",
    "[0.6757161677942479, 1.5489208953609],\n",
    "[0.6915218207623425, 1.8774575009069432],\n",
    "[0.7109743446133874, 2.2842140770488975],\n",
    "[0.7206929691129768, 2.5188421662285743],\n",
    "[0.7291896054633056, 2.7534384328001975],\n",
    "[0.7437694515691731, 3.097568116292538],\n",
    "[0.7510479184832074, 3.3165076597017578],\n",
    "[0.7619694375672255, 3.6292920742612376],\n",
    "[0.7789550728419501, 4.129734408513183],\n",
    "[0.7910833052233632, 4.505050247898115],\n",
    "[0.7959330706907417, 4.661426543873829]\n",
    "]\n",
    "\n",
    "testChemPex = np.array( testChemPex )\n",
    "\n",
    "# data from Frenkel's book"
   ]
  },
  {
   "cell_type": "code",
   "execution_count": 30,
   "metadata": {},
   "outputs": [],
   "source": [
    "import MBWR_EOS\n",
    "\n",
    "test = {\"temperature\": 2.0, \"sigma\": 1., \"component\":1, \"epsilon\":1., \"wave\":1.0}\n",
    "CP = []\n",
    "\n",
    "mbwr = MBWR_EOS.MBWR_EOS(test)\n",
    "for i in xx2:\n",
    "    mbwr.rho = i\n",
    "    chemP = mbwr.exChemicalPotential()\n",
    "    CP.append(chemP)\n",
    "\n",
    "CP = np.array( CP )\n"
   ]
  },
  {
   "cell_type": "code",
   "execution_count": 31,
   "metadata": {},
   "outputs": [],
   "source": [
    "yy = np.array([ -0.124232,  -0.186052, -0.172991, -0.0584114, 0.244226, 0.771789, 1.7077 ])\n",
    "xx = np.array([ 0.1, 0.2, 0.3, 0.4, 0.5, 0.6, 0.7 ])"
   ]
  },
  {
   "cell_type": "code",
   "execution_count": 53,
   "metadata": {},
   "outputs": [],
   "source": [
    "def uTail ( rho, rCut ):\n",
    "    tail = (8./3.) * np.pi * rho * ( (1./3.) * (1./rCut)**9 - (1./rCut)**3 )\n",
    "    return tail\n",
    "\n",
    "tCPex = [ np.mean( np.array( i[2000:] ) ) for i in pot1 ]\n",
    "tCPex = - np.log( tCPex )\n",
    "\n",
    "xx2 = np.arange( 0.1, 1, 0.1 )\n",
    "uts = []\n",
    "for i in xx2:\n",
    "    ut = uTail ( i, 2.5 )\n",
    "    uts.append(ut)\n",
    "\n",
    "tCPex = tCPex + 2*np.array( uts )"
   ]
  },
  {
   "cell_type": "code",
   "execution_count": 54,
   "metadata": {},
   "outputs": [
    {
     "data": {
      "text/plain": [
       "[<matplotlib.lines.Line2D at 0x16a9b9e90>]"
      ]
     },
     "execution_count": 54,
     "metadata": {},
     "output_type": "execute_result"
    },
    {
     "data": {
      "image/png": "[encoded data removed]",
      "text/plain": [
       "<Figure size 640x480 with 1 Axes>"
      ]
     },
     "metadata": {},
     "output_type": "display_data"
    }
   ],
   "source": [
    "xx2 = np.arange(0.1, 1, 0.1)\n",
    "plt.plot( xx2[:-1], tCPex[:-1], 'o' )\n",
    "plt.plot( testChemPex[:,0], testChemPex[:,1]/2., \"--\")\n",
    "plt.plot( xx2[:-1], CP[:-1,0,0], '*' )\n",
    "\n",
    "plt.plot( xx, yy + 2*np.array(uts[:7]), \">\" )"
   ]
  },
  {
   "cell_type": "code",
   "execution_count": 4,
   "metadata": {},
   "outputs": [],
   "source": [
    "g_data = np.array([\n",
    "[0.9053097583917941, 0.09677895709469198],\n",
    "[0.9266080362185743, 0.284216474484988],\n",
    "[0.938333714070804, 0.45684809909743507],\n",
    "[0.9450616873413035, 0.6146665537919591],\n",
    "[0.9551308969960147, 0.8025949473581164],\n",
    "[0.9639660801097921, 1.0198522000946943],\n",
    "[0.9723958015604889, 1.2594994486819941],\n",
    "[0.9795657692073664, 1.4732905775496652],\n",
    "[0.9871521326040503, 1.6881453265948847],\n",
    "[0.997224962452182, 1.883839035047713],\n",
    "[1.0064567864531933, 2.059785727742694],\n",
    "[1.016510982412349, 2.2155097443423006],\n",
    "[1.0332360003651648, 2.406462726816395],\n",
    "[1.0665458561000984, 2.4876822256175695],\n",
    "[1.0997508247913292, 2.3439190156763523],\n",
    "[1.120473914526448, 2.189683339611305],\n",
    "[1.1411897271214935, 2.019838198088787],\n",
    "[1.1619028934837847, 1.8443168873090066],\n",
    "[1.182619588156415, 1.6763638022055758],\n",
    "[1.2033428984109298, 1.5226011402453006],\n",
    "[1.2261482057910942, 1.3741959970148303],\n",
    "[1.2531130550309415, 1.226955511223815],\n",
    "[1.2863145953297135, 1.0758383994574725],\n",
    "[1.3278401907396624, 0.9377142380084962],\n",
    "[1.3735351174157922, 0.8217530109386595],\n",
    "[1.419250191545844, 0.7490080725320687],\n",
    "[1.4649800003810038, 0.7078690765806877],\n",
    "[1.5107165250341374, 0.6811355101837218],\n",
    "[1.5564642761292578, 0.6784826618478688],\n",
    "[1.6022200461115106, 0.6930303264128099],\n",
    "[1.6479811286064896, 0.7189733307745279],\n",
    "[1.693753537779545, 0.7692120596086172],\n",
    "[1.7395290542713635, 0.8261159871917645],\n",
    "[1.785311186345067, 0.8972103379180676],\n",
    "[1.8310940200713954, 0.9698097335231903],\n",
    "[1.876879760644309, 1.048644315054851],\n",
    "[1.9226601887044974, 1.116083556789735],\n",
    "[1.9684335000023543, 1.168257343325164],\n",
    "[2.0141965872191165, 1.1985004759120805],\n",
    "[2.05994995153523, 1.2078879866067833],\n",
    "[2.1056906861041087, 1.1901846894827348],\n",
    "[2.1514231010775866, 1.1546358602241118],\n",
    "[2.1971483992887335, 1.1038215757660343],\n",
    "[2.2428752010412176, 1.056232387476855],\n",
    "[2.2886020027937026, 1.0086431991876763],\n",
    "[2.3343299071431676, 0.9634190814223564],\n",
    "[2.380064427074518, 0.9323853868001923],\n",
    "[2.4258026557411676, 0.9093069293946456],\n",
    "[2.471543490546135, 0.891818638681857],\n",
    "[2.508972591323648, 0.8877661222357798]\n",
    "])\n",
    "\n",
    "# data from Dean Frenkel Understanding molecular simulation, e82 Figure N.6\n"
   ]
  },
  {
   "cell_type": "code",
   "execution_count": null,
   "metadata": {},
   "outputs": [],
   "source": [
    "system = {}\n",
    "\n",
    "system[\"numberOfParticles\"] = 512\n",
    "system[\"density\"]           = 0.8442\n",
    "system[\"temperature\"]       = 1.5043\n",
    "system[\"rCut\"]              = 2.5\n",
    "system[\"cells\"]             = np.array([8, 8, 8])\n",
    "system[\"drMax\"]             = 0.25\n",
    "\n",
    "system[\"Version\"]           = \"CPP\"\n",
    "# system[\"isNeighborList\"]    = False\n",
    "system[\"isNeighborList\"]    = True\n",
    "\n",
    "# system[\"numberOfBlocks\"]    = 10\n",
    "# system[\"numberOfSteps\"]     = 1000\n",
    "\n",
    "# system[\"Filename\"] = \"trajectory.xyz\""
   ]
  },
  {
   "cell_type": "code",
   "execution_count": null,
   "metadata": {},
   "outputs": [
    {
     "name": "stdout",
     "output_type": "stream",
     "text": [
      "[8.46463439 8.46463439 8.46463439]\n",
      "0.8442000000000002\n"
     ]
    }
   ],
   "source": [
    "system[\"size\"]              = system[\"cells\"] / ( system[\"density\"] ) ** (1./3.)\n",
    "print( system[\"size\"] )\n",
    "print( np.prod(system[\"cells\"]) / np.prod( system[\"size\"] ) )"
   ]
  },
  {
   "cell_type": "code",
   "execution_count": 11,
   "metadata": {},
   "outputs": [
    {
     "name": "stdout",
     "output_type": "stream",
     "text": [
      "pressure delta: -0.38054564069336366\n",
      "Pressure lrc: -0.7621346985194898\n",
      "Internal Energy LRC: -0.45201262476442317\n",
      "sc = 3\n",
      "cells: 8 8 8\n",
      "0\n",
      "1000\n",
      "2000\n",
      "3000\n",
      "4000\n",
      "5000\n",
      "6000\n",
      "7000\n",
      "8000\n",
      "9000\n",
      "10000\n",
      "11000\n",
      "12000\n",
      "13000\n",
      "14000\n",
      "15000\n",
      "16000\n",
      "17000\n",
      "18000\n",
      "19000\n",
      "20000\n",
      "21000\n",
      "22000\n",
      "23000\n",
      "24000\n",
      "25000\n",
      "26000\n",
      "27000\n",
      "28000\n",
      "29000\n",
      "30000\n",
      "31000\n",
      "32000\n",
      "33000\n",
      "34000\n",
      "35000\n",
      "36000\n",
      "37000\n",
      "38000\n",
      "39000\n",
      "40000\n",
      "41000\n",
      "42000\n",
      "43000\n",
      "44000\n",
      "45000\n",
      "46000\n",
      "47000\n",
      "48000\n",
      "49000\n",
      "50000\n",
      "51000\n",
      "52000\n",
      "53000\n",
      "54000\n",
      "55000\n",
      "56000\n",
      "57000\n",
      "58000\n",
      "59000\n",
      "60000\n",
      "61000\n",
      "62000\n",
      "63000\n",
      "64000\n",
      "65000\n",
      "66000\n",
      "67000\n",
      "68000\n",
      "69000\n",
      "70000\n",
      "71000\n",
      "72000\n",
      "73000\n",
      "74000\n",
      "75000\n",
      "76000\n",
      "77000\n",
      "78000\n",
      "79000\n",
      "80000\n",
      "81000\n",
      "82000\n",
      "83000\n",
      "84000\n",
      "85000\n",
      "86000\n",
      "87000\n",
      "88000\n",
      "89000\n",
      "90000\n",
      "91000\n",
      "92000\n",
      "93000\n",
      "94000\n",
      "95000\n",
      "96000\n",
      "97000\n",
      "98000\n",
      "99000\n",
      "Running Time: 478.312251329422 s\n"
     ]
    }
   ],
   "source": [
    "MC = MonteCarlo(system)\n",
    "# pressure, moveRatio, totalEnergy, pots, positions = MC.MC_NVT()\n",
    "pressure, moveRatio, totalEnergy, pots, positions = MC.MC_NVT_CPP( nBlock=20, nStep=5000 )"
   ]
  },
  {
   "cell_type": "code",
   "execution_count": null,
   "metadata": {},
   "outputs": [],
   "source": [
    "positions = MonteCarlo.readXYZTrajectory(\"trajectory.xyz\")"
   ]
  },
  {
   "cell_type": "code",
   "execution_count": 13,
   "metadata": {},
   "outputs": [
    {
     "data": {
      "text/plain": [
       "(5000, 512, 3)"
      ]
     },
     "execution_count": 13,
     "metadata": {},
     "output_type": "execute_result"
    }
   ],
   "source": [
    "positions.shape"
   ]
  },
  {
   "cell_type": "code",
   "execution_count": 14,
   "metadata": {},
   "outputs": [],
   "source": [
    "rMid, g = MonteCarlo.rdf( positions[3000:], system[\"size\"][0], 512, dr=0.02 )"
   ]
  },
  {
   "cell_type": "code",
   "execution_count": 16,
   "metadata": {},
   "outputs": [
    {
     "data": {
      "image/png": "[encoded data removed]",
      "text/plain": [
       "<Figure size 640x480 with 1 Axes>"
      ]
     },
     "metadata": {},
     "output_type": "display_data"
    }
   ],
   "source": [
    "plt.plot( rMid, g )\n",
    "\n",
    "plt.scatter( g_data[:,0], g_data[:,1], marker=\"o\", edgecolors=\"r\", color='none' )\n",
    "\n",
    "plt.show()"
   ]
  },
  {
   "cell_type": "code",
   "execution_count": null,
   "metadata": {},
   "outputs": [],
   "source": [
    "\"\"\"\n",
    "1 2 3 4 5 6\n",
    "6 1 2 3 4 5 (1, 6) (1, 2)\n",
    "5 6 1 2 3 4 (1, 5) (1, 3)\n",
    "4 5 6 1 2 3 (1, 4) (1, 4)\n",
    "\"\"\"\n",
    "\n",
    "\"\"\"\n",
    "1 2 3 4 5\n",
    "5 1 2 3 4 (1, 5) (1, 2)\n",
    "4 5 1 2 3 (1, 4) (1, 3)\n",
    "\"\"\""
   ]
  },
  {
   "cell_type": "code",
   "execution_count": null,
   "metadata": {},
   "outputs": [
    {
     "data": {
      "text/plain": [
       "[<matplotlib.lines.Line2D at 0x312554d10>]"
      ]
     },
     "metadata": {},
     "output_type": "display_data"
    },
    {
     "data": {
      "image/png": "[encoded data removed]",
      "text/plain": [
       "<Figure size 640x480 with 1 Axes>"
      ]
     },
     "metadata": {},
     "output_type": "display_data"
    }
   ],
   "source": [
    "# ytime = np.array( [ 6.16, 14.40, 24.25, 35.58, 48.39, 1.04.16, 1.20.09, 1.37.51, 1.56.55 ] )\n",
    "h1 = np.array( [ 0, 0, 0, 0, 0, 1, 1, 1, 1 ] )\n",
    "m1 = np.array( [ 6, 14, 24, 35, 48, 4, 20, 37, 56 ] )\n",
    "s1 = np.array( [ 16, 40, 25, 58, 39, 16, 9, 51, 55 ] )\n",
    "\n",
    "yTime = h1 * 3600 + m1 * 60 + s1\n",
    "xTime = np.arange(100, 1000, 100)\n",
    "\n",
    "plt.plot(xTime, yTime, color=\"red\", linestyle = \"--\", marker=\"p\")"
   ]
  }
 ],
 "metadata": {
  "kernelspec": {
   "display_name": "base",
   "language": "python",
   "name": "python3"
  },
  "language_info": {
   "codemirror_mode": {
    "name": "ipython",
    "version": 3
   },
   "file_extension": ".py",
   "mimetype": "text/x-python",
   "name": "python",
   "nbconvert_exporter": "python",
   "pygments_lexer": "ipython3",
   "version": "3.11.5"
  }
 },
 "nbformat": 4,
 "nbformat_minor": 2
}
