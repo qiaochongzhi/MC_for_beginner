{
 "cells": [
  {
   "cell_type": "markdown",
   "metadata": {},
   "source": [
    "## Monte Carlo simulation for NVT Ensemble\n",
    "\n",
    "Reference: Computer Simulation of Liquid, 2017"
   ]
  },
  {
   "cell_type": "markdown",
   "metadata": {},
   "source": [
    "Import packages"
   ]
  },
  {
   "cell_type": "code",
   "execution_count": 1,
   "metadata": {},
   "outputs": [],
   "source": [
    "%matplotlib inline\n",
    "\n",
    "import numpy as np\n",
    "import matplotlib.pyplot as plt\n",
    "\n",
    "import pandas as pd\n",
    "from tqdm import tqdm\n",
    "from itertools import product\n",
    "\n",
    "import sys"
   ]
  },
  {
   "cell_type": "markdown",
   "metadata": {},
   "source": [
    "All particles are set at the center of a simple square lattice, at the initial state"
   ]
  },
  {
   "cell_type": "code",
   "execution_count": 2,
   "metadata": {},
   "outputs": [],
   "source": [
    "def initCoords(pos, cells):\n",
    "    num = len(pos)\n",
    "    dim = len(pos[0])\n",
    "    c   = np.zeros(dim)\n",
    "    gap = 1. / cells\n",
    "\n",
    "    assert dim == 3, \"Wrong dimension, initCoords\"\n",
    "\n",
    "    n = 0\n",
    "    for i, j, k in product(range(cells[0]), range(cells[1]), range(cells[2]) ):\n",
    "\n",
    "        c      = np.array([i, j, k]) + 0.5\n",
    "        c      = c * gap\n",
    "        c      = c - 0.5\n",
    "        pos[n] = c\n",
    "        n      = n + 1\n",
    "\n",
    "        if n >= num:\n",
    "            return pos\n",
    "\n",
    "    return pos\n"
   ]
  },
  {
   "cell_type": "code",
   "execution_count": 3,
   "metadata": {},
   "outputs": [],
   "source": [
    "class PotentialType:\n",
    "    \"\"\"A compsite variable for interactions.\"\"\"\n",
    "\n",
    "    def __init__(self, pot, vir, ovr):\n",
    "        self.pot = pot # Potential Energy\n",
    "        self.vir = vir # Virial\n",
    "        self.ovr = ovr # Check if overlap\n",
    "\n",
    "    def __add__(self, other):\n",
    "        pot = self.pot + other.pot\n",
    "        vir = self.vir + other.vir\n",
    "        ovr = self.ovr or other.ovr\n",
    "        return PotentialType(pot, vir, ovr)\n",
    "\n",
    "    def __sub__(self, other):\n",
    "        pot = self.pot - other.pot\n",
    "        vir = self.vir - other.vir\n",
    "        ovr = self.ovr or other.ovr\n",
    "        return PotentialType(pot, vir, ovr)\n"
   ]
  },
  {
   "cell_type": "markdown",
   "metadata": {},
   "source": [
    "Calculate the interaction between particle $i$ and other particles.\n",
    "The Lennard-Jones potential is used."
   ]
  },
  {
   "cell_type": "code",
   "execution_count": 4,
   "metadata": {},
   "outputs": [],
   "source": [
    "def potential_1( ri, box, r_cut, r ):\n",
    "\n",
    "    dim      = len(r[0])\n",
    "    r_cut_sq = r_cut ** 2\n",
    "\n",
    "    assert dim == 3, \"Dimension error for r in potential_1\"\n",
    "\n",
    "    sr2_ovr = 1.77 # Overlap threshold (pot > 100)\n",
    "\n",
    "    rij      = ri - r\n",
    "    rij      = rij - np.rint(rij)  # Periodical boundary conditions\n",
    "    rij      = rij * box\n",
    "    rij2     = np.sum(rij**2, axis = 1)\n",
    "    in_range = rij2 < r_cut_sq\n",
    "    sr2      = np.where(in_range, 1./rij2, 0.)\n",
    "\n",
    "    ovr = sr2 > sr2_ovr\n",
    "    if np.any(ovr):\n",
    "        partial = PotentialType( pot = 0.0, vir = 0.0, ovr = True )\n",
    "        return partial\n",
    "\n",
    "    sr6 = sr2 ** 3\n",
    "    sr12 = sr6 ** 2\n",
    "\n",
    "    pot = sr12 - sr6\n",
    "    vir = pot + sr12\n",
    "    partial = PotentialType ( pot=np.sum(pot), vir=np.sum(vir), ovr=False )\n",
    "\n",
    "    partial.pot = partial.pot * 4.0          # 4 * epsilon\n",
    "    partial.vir = partial.vir * 24.0 / 3.0   # 24 * epsilon and divide by 3.0\n",
    "\n",
    "    return partial\n",
    "\n",
    "def potential( box, r_cut, r ):\n",
    "    \"\"\"\n",
    "    Calculate the total energy of the system\n",
    "    \"\"\"\n",
    "\n",
    "    dim = len(r[0])\n",
    "    num = len(r)\n",
    "    assert dim == 3, \"Dimension error for r in potential\"\n",
    "\n",
    "    total = PotentialType ( pot=0.0, vir=0.0, ovr=False )\n",
    "\n",
    "    for i in range(num-1):\n",
    "        partial = potential_1 ( r[i,:], box, r_cut, r[i+1:,:] )\n",
    "        if partial.ovr:\n",
    "            total.ovr = True\n",
    "            break\n",
    "        total = total + partial\n",
    "\n",
    "    return total\n",
    "\n"
   ]
  },
  {
   "cell_type": "markdown",
   "metadata": {},
   "source": [
    "Define some math function"
   ]
  },
  {
   "cell_type": "code",
   "execution_count": 5,
   "metadata": {},
   "outputs": [],
   "source": [
    "def random_translate_vector ( dr_max, old ):\n",
    "    zeta = np.random.rand(3)\n",
    "    zeta = 2.0*zeta - 1.0\n",
    "    return old + zeta * dr_max\n",
    "\n",
    "def metropolis ( delta ):\n",
    "    exponent_guard = 75.0\n",
    "\n",
    "    if delta > exponent_guard: # Too high, reject without evaluating\n",
    "        return False\n",
    "    elif delta < 0.0:\n",
    "        return True\n",
    "    else:\n",
    "        zeta = np.random.rand()\n",
    "        return np.exp(-delta) > zeta"
   ]
  },
  {
   "cell_type": "code",
   "execution_count": 6,
   "metadata": {},
   "outputs": [],
   "source": [
    "def MC_NVT(system):\n",
    "\n",
    "    box = system[\"size\"]\n",
    "    vol = np.prod(system[\"size\"])\n",
    "    num = system[\"numberOfParticles\"]\n",
    "    rho = float(num) / vol\n",
    "\n",
    "    rCut  = system[\"rCut\"]\n",
    "    drMax = system[\"drMax\"]\n",
    "    cells = system[\"cells\"]\n",
    "\n",
    "    nBlock = system[\"numberOfBlocks\"]\n",
    "    nStep  = system[\"numberOfSteps\"]\n",
    "\n",
    "    temperature = system[\"temperature\"]\n",
    "\n",
    "    r = np.zeros([num, 3])\n",
    "    r = initCoords(r, cells)\n",
    "\n",
    "    sr3 = 1.0 / rCut**3\n",
    "    pressureDelta = np.pi * (8.0/3.0) * ( sr3**3 - sr3 ) * rho**2\n",
    "    print(\"pressure delta: \" + str(pressureDelta) )\n",
    "    pressureLrc = np.pi * ( (32./9.) * sr3**3 - (16./3.) * sr3 ) * rho**2\n",
    "    print(\"Pressure lrc: \" + str(pressureLrc) )\n",
    "    Ulrc = np.pi * ( (8./9.) * sr3**3 - (8./3.) * sr3 ) * rho\n",
    "    print(\"Internal Energy LRC: \" + str(Ulrc) )\n",
    "\n",
    "    # Initial energy and check the particle position\n",
    "    total = potential ( box, rCut, r )\n",
    "    assert not total.ovr, \"Overlap in the initial configuration\"\n",
    "\n",
    "    total.pot = total.pot + Ulrc * num\n",
    "\n",
    "    moveRatio = 0.0\n",
    "    moveRatios = []\n",
    "\n",
    "    pressures   = []\n",
    "    totalEnergy = []\n",
    "    pots        = []\n",
    "\n",
    "    poss = []\n",
    "\n",
    "    for block in tqdm(range(nBlock)):\n",
    "\n",
    "        for step in range(nStep):\n",
    "\n",
    "            moves = 0\n",
    "\n",
    "            for i in range(num):\n",
    "\n",
    "                rj = np.delete(r, i, 0) # Array of all the other particles.\n",
    "                partial_old = potential_1 ( r[i,:], box, rCut, rj )\n",
    "                assert not partial_old.ovr, \"Overlap in the current configuration\"\n",
    "\n",
    "                ri = random_translate_vector ( drMax/box, r[i,:] )\n",
    "                ri = ri - np.rint ( ri )\n",
    "\n",
    "                partial_new = potential_1 ( ri, box, rCut, rj )\n",
    "\n",
    "                if not partial_new.ovr:\n",
    "                    delta = partial_new.pot - partial_old.pot\n",
    "                    delta = delta / temperature\n",
    "\n",
    "                    if metropolis ( delta ):\n",
    "                        total  = total + partial_new - partial_old\n",
    "                        r[i,:] = ri\n",
    "                        moves  = moves + 1\n",
    "\n",
    "\n",
    "            # Test Particle Method\n",
    "            rj = np.random.rand(3) - 0.5\n",
    "            testParticle = potential_1 ( rj, box, rCut, r )\n",
    "            if testParticle.ovr:\n",
    "                pot = 0\n",
    "            else:\n",
    "                pot = np.exp( - testParticle.pot / temperature )\n",
    "            pots.append(pot)\n",
    "            # End of Test Particle Method\n",
    "\n",
    "            moveRatio = moves / num\n",
    "            #pressure = rho * temperature + total.vir / vol + pressureDelta\n",
    "            pressure = rho * temperature + total.vir / vol + pressureLrc\n",
    "\n",
    "            if (block > 0) and ( step%20 == 0 ):\n",
    "                poss.append(r.copy())\n",
    "\n",
    "\n",
    "            # Test ratio of accepted to attempted moves\n",
    "            if moveRatio > 0.55:\n",
    "                drMax *= 1.05\n",
    "            elif moveRatio < 0.45:\n",
    "                drMax *= 0.95\n",
    "\n",
    "            moveRatios.append(moveRatio)\n",
    "            pressures.append(pressure)\n",
    "            totalEnergy.append(total)\n",
    "\n",
    "    total = potential ( box, rCut, r )\n",
    "    assert not total.ovr, 'Overlap in final configuration'\n",
    "\n",
    "    total = np.array( [it.pot for it in totalEnergy] )\n",
    "\n",
    "    return pressures, moveRatios, total, pots, totalEnergy, poss\n",
    "\n"
   ]
  },
  {
   "cell_type": "code",
   "execution_count": 7,
   "metadata": {},
   "outputs": [],
   "source": [
    "import build.MonteCarlo as MC"
   ]
  },
  {
   "cell_type": "code",
   "execution_count": 8,
   "metadata": {},
   "outputs": [],
   "source": [
    "import time"
   ]
  },
  {
   "cell_type": "code",
   "execution_count": 9,
   "metadata": {},
   "outputs": [
    {
     "name": "stdout",
     "output_type": "stream",
     "text": [
      "CPP total potential: -1952.7392041975813\n",
      "Py  total potential: -128.72578740940781\n",
      "CPP total Virial: -3726.969666173017\n",
      "Py  total Virial: -247.09770963763188\n",
      "********* after displacement particle *********\n",
      "CPP total potential: -4184.72793656511\n",
      "CPP total potential 2: -1244.7201535929166\n",
      "Py  total potential: -4.493217717972474\n",
      "CPP total Virial: -3260.900003746638\n",
      "CPP total Virial 2: -14.062878424451242\n",
      "Py  total Virial: 94.17869947367441\n"
     ]
    }
   ],
   "source": [
    "box = np.array( [10, 10, 10] )\n",
    "vol = np.prod( box )\n",
    "num = 200\n",
    "rho = float(num) / vol\n",
    "\n",
    "rCut  = 2.5\n",
    "drMax = 0.25\n",
    "cells = np.ceil( float( num  / np.prod( box ) )**(1./3.) * box )\n",
    "cells = cells.astype(np.int64)\n",
    "\n",
    "temperature = 2.\n",
    "\n",
    "r = np.zeros([num, 3])\n",
    "r = initCoords(r, cells)\n",
    "\n",
    "# Initial energy and check the particle position\n",
    "total = potential ( box, rCut, r )\n",
    "assert not total.ovr, \"Overlap in the initial configuration\"\n",
    "\n",
    "mc = MC.MonteCarlo(num, 3, temperature, rCut, True)\n",
    "mc.SetBox( box )\n",
    "\n",
    "# Initial energy and check the particle position, CPP veraion\n",
    "mc.SetPosition( r )\n",
    "total1 = mc.GetPotential()\n",
    "\n",
    "print( \"CPP total potential: \" + str(total1[\"pot\"]))\n",
    "print( \"Py  total potential: \" + str(total.pot))\n",
    "print( \"CPP total Virial: \" + str(total1[\"vir\"]))\n",
    "print( \"Py  total Virial: \" + str(total.vir))\n",
    "\n",
    "results = mc.MoveParticles( drMax )\n",
    "total2  = PotentialType ( pot=results[\"pot\"], vir=results[\"vir\"], ovr= False ) + total\n",
    "\n",
    "total1 = mc.GetPotential()\n",
    "\n",
    "r1    = mc.GetPosition()\n",
    "total = potential ( box, rCut, r1 )\n",
    "\n",
    "print(\"********* after displacement particle *********\")\n",
    "print( \"CPP total potential: \" + str(total1[\"pot\"]))\n",
    "print( \"CPP total potential 2: \" + str(total2.pot))\n",
    "print( \"Py  total potential: \" + str(total.pot))\n",
    "print( \"CPP total Virial: \" + str(total1[\"vir\"]))\n",
    "print( \"CPP total Virial 2: \" + str(total2.vir))\n",
    "print( \"Py  total Virial: \" + str(total.vir))"
   ]
  },
  {
   "cell_type": "code",
   "execution_count": 10,
   "metadata": {},
   "outputs": [],
   "source": [
    "def MC_NVT_CPP(system, isNeihborList = True):\n",
    "\n",
    "    box = system[\"size\"]\n",
    "    vol = np.prod(system[\"size\"])\n",
    "    num = system[\"numberOfParticles\"]\n",
    "    rho = float(num) / vol\n",
    "\n",
    "    rCut  = system[\"rCut\"]\n",
    "    drMax = system[\"drMax\"]\n",
    "    cells = system[\"cells\"]\n",
    "\n",
    "    nBlock = system[\"numberOfBlocks\"]\n",
    "    nStep  = system[\"numberOfSteps\"]\n",
    "\n",
    "    temperature = system[\"temperature\"]\n",
    "\n",
    "    r = np.zeros([num, 3])\n",
    "    r = initCoords(r, cells)\n",
    "\n",
    "    sr3 = 1.0 / rCut**3\n",
    "    pressureDelta = np.pi * (8.0/3.0) * ( sr3**3 - sr3 ) * rho**2\n",
    "    print(\"pressure delta: \" + str(pressureDelta) )\n",
    "    pressureLrc = np.pi * ( (32./9.) * sr3**3 - (16./3.) * sr3 ) * rho**2\n",
    "    print(\"Pressure lrc: \" + str(pressureLrc) )\n",
    "    Ulrc = np.pi * ( (8./9.) * sr3**3 - (8./3.) * sr3 ) * rho\n",
    "    print(\"Internal Energy LRC: \" + str(Ulrc) )\n",
    "\n",
    "    mc = MC.MonteCarlo( num, 3, temperature, rCut, isNeihborList )\n",
    "    mc.SetBox( box )\n",
    "\n",
    "    # Initial energy and check the particle position\n",
    "    mc.SetPosition( r )\n",
    "    total1 = mc.GetPotential()\n",
    "    assert not total1[\"overlap\"], \"Overlap in the initial configuration\"\n",
    "\n",
    "    \"\"\"\n",
    "    total = PotentialType ( pot=total1[\"pot\"], vir=total1[\"vir\"], ovr= (True if total1[\"overlap\"] else False) )\n",
    "    total.pot = total.pot + Ulrc * num\n",
    "    \"\"\"\n",
    "\n",
    "    time_start = time.time()\n",
    "\n",
    "    steps = int( nBlock * nStep )\n",
    "\n",
    "    results = mc.MCrun(steps, drMax)\n",
    "\n",
    "    totalEnergy = results[\"potential\"] + Ulrc * num\n",
    "    pressures   = rho * temperature + results[\"vir\"] / vol + pressureLrc\n",
    "    moveRatios  = results[\"moveRatios\"]\n",
    "\n",
    "    time_end = time.time()\n",
    "    print(\"Running Time: \" + str(time_end-time_start) + \" s\")\n",
    "\n",
    "    pots = []\n",
    "\n",
    "    '''\n",
    "    moveRatios = []\n",
    "    pressures   = []\n",
    "    totalEnergy = []\n",
    "    pots        = []\n",
    "\n",
    "    moveRatio = 0.0\n",
    "\n",
    "    for block in tqdm(range(nBlock)):\n",
    "\n",
    "        for step in range(nStep):\n",
    "\n",
    "            results = mc.MoveParticles( drMax )\n",
    "            total  += PotentialType ( pot=results[\"pot\"], vir=results[\"vir\"], ovr= False )\n",
    "\n",
    "            moves = results[\"moves\"]\n",
    "\n",
    "            # Test Particle Method\n",
    "            pot = mc.TestParticles()\n",
    "            pot = np.exp( - pot / temperature )\n",
    "            pots.append(pot)\n",
    "            # End of Test Particle Method\n",
    "\n",
    "            moveRatio = moves / num\n",
    "            #pressure = rho * temperature + total.vir / vol + pressureDelta\n",
    "            pressure = rho * temperature + total.vir / vol + pressureLrc\n",
    "\n",
    "            # Test ratio of accepted to attempted moves\n",
    "            if moveRatio > 0.55:\n",
    "                drMax *= 1.05\n",
    "            elif moveRatio < 0.45:\n",
    "                drMax *= 0.95\n",
    "\n",
    "            moveRatios.append(moveRatio)\n",
    "            pressures.append(pressure)\n",
    "            totalEnergy.append(total)\n",
    "    '''\n",
    "\n",
    "    total = mc.GetPotential()\n",
    "    assert not total[\"overlap\"], 'Overlap in final configuration'\n",
    "\n",
    "    return pressures, moveRatios, totalEnergy, pots\n"
   ]
  },
  {
   "cell_type": "code",
   "execution_count": 11,
   "metadata": {},
   "outputs": [],
   "source": [
    "system = {}\n",
    "system[\"size\"]              = np.array([10, 10, 10])\n",
    "system[\"numberOfParticles\"] = 400\n",
    "system[\"temperature\"]       = 2.\n",
    "system[\"rCut\"]              = 2.5\n",
    "system[\"cells\"]             = np.ceil( float( system[\"numberOfParticles\"] / np.prod(system[\"size\"]) )**(1./3.) * system[\"size\"] )\n",
    "system[\"cells\"]             = system[\"cells\"].astype(np.int64)\n",
    "system[\"drMax\"]             = 0.25\n",
    "system[\"numberOfBlocks\"]    = 10\n",
    "system[\"numberOfSteps\"]     = 1000"
   ]
  },
  {
   "cell_type": "code",
   "execution_count": 12,
   "metadata": {},
   "outputs": [
    {
     "name": "stdout",
     "output_type": "stream",
     "text": [
      "pressure delta: -0.08543504220380337\n",
      "Pressure lrc: -0.17110433853442136\n",
      "Internal Energy LRC: -0.21417324082654493\n",
      "Running Time: 205.06685996055603 s\n"
     ]
    }
   ],
   "source": [
    "pressure, moveRatio, totalEnergy, pots = MC_NVT_CPP(system)"
   ]
  },
  {
   "cell_type": "code",
   "execution_count": 12,
   "metadata": {},
   "outputs": [
    {
     "name": "stdout",
     "output_type": "stream",
     "text": [
      "pressure delta: -0.08543504220380337\n",
      "Pressure lrc: -0.17110433853442136\n",
      "Internal Energy LRC: -0.21417324082654493\n"
     ]
    },
    {
     "name": "stderr",
     "output_type": "stream",
     "text": [
      "100%|██████████| 10/10 [03:45<00:00, 22.57s/it]\n"
     ]
    }
   ],
   "source": [
    "pressure1, moveRatio1, totalEnergy1, pots1, _, _ = MC_NVT(system)"
   ]
  },
  {
   "cell_type": "code",
   "execution_count": 17,
   "metadata": {},
   "outputs": [
    {
     "name": "stdout",
     "output_type": "stream",
     "text": [
      "CPP Pressure: 0.7062772385976074\n",
      "PY  Pressure: 0.7003388437765461\n",
      "CPP Total Energy: -1014.6478115532851\n",
      "PY  Total Energy: -1014.2558969499868\n"
     ]
    }
   ],
   "source": [
    "print( \"CPP Pressure: \" + str( np.mean( np.array(pressure[4000:] ) ) ) )\n",
    "print( \"PY  Pressure: \" + str( np.mean( np.array(pressure1[4000:]) ) ) )\n",
    "\n",
    "print( \"CPP Total Energy: \" + str( np.mean( np.array(totalEnergy[4000: ]) ) ) )\n",
    "print( \"PY  Total Energy: \" + str( np.mean( np.array(totalEnergy1[4000:]) ) ) )"
   ]
  },
  {
   "cell_type": "code",
   "execution_count": 14,
   "metadata": {},
   "outputs": [
    {
     "data": {
      "text/plain": [
       "-1016.041293127893"
      ]
     },
     "execution_count": 14,
     "metadata": {},
     "output_type": "execute_result"
    }
   ],
   "source": [
    "-127005.16164098663 / 50000 * 400"
   ]
  },
  {
   "cell_type": "code",
   "execution_count": 19,
   "metadata": {},
   "outputs": [
    {
     "name": "stdout",
     "output_type": "stream",
     "text": [
      "Excess Chemical Potential: -0.28058528226276175\n",
      "Chemical Potential: -1.1968760141369168\n"
     ]
    }
   ],
   "source": [
    "'''\n",
    "chemPex = np.mean( np.array(pots[1000:]))\n",
    "chemPex = - np.log( chemPex )\n",
    "print( \"Excess Chemical Potential: \" + str(chemPex) )\n",
    "chemP = np.log( 0.4 ) + chemPex\n",
    "print( \"Chemical Potential: \" + str(chemP) )\n",
    "'''"
   ]
  },
  {
   "cell_type": "code",
   "execution_count": 19,
   "metadata": {},
   "outputs": [
    {
     "name": "stdout",
     "output_type": "stream",
     "text": [
      "pressure delta: -0.00533969013773771\n",
      "Pressure lrc: -0.010694021158401335\n",
      "Internal Energy LRC: -0.05354331020663623\n"
     ]
    },
    {
     "name": "stderr",
     "output_type": "stream",
     "text": [
      " 10%|█         | 1/10 [00:03<00:35,  3.91s/it]/var/folders/8r/4lys0f3j3s37f6sly02kgnv40000gn/T/ipykernel_6761/118895770.py:15: RuntimeWarning: divide by zero encountered in divide\n",
      "  sr2      = np.where(in_range, 1./rij2, 0.)\n",
      "100%|██████████| 10/10 [00:38<00:00,  3.89s/it]\n"
     ]
    },
    {
     "name": "stdout",
     "output_type": "stream",
     "text": [
      "pressure delta: -0.02135876055095084\n",
      "Pressure lrc: -0.04277608463360534\n",
      "Internal Energy LRC: -0.10708662041327247\n"
     ]
    },
    {
     "name": "stderr",
     "output_type": "stream",
     "text": [
      "100%|██████████| 10/10 [01:30<00:00,  9.05s/it]\n"
     ]
    },
    {
     "name": "stdout",
     "output_type": "stream",
     "text": [
      "pressure delta: -0.04805721123963938\n",
      "Pressure lrc: -0.09624619042561199\n",
      "Internal Energy LRC: -0.16062993061990868\n"
     ]
    },
    {
     "name": "stderr",
     "output_type": "stream",
     "text": [
      "100%|██████████| 10/10 [02:33<00:00, 15.37s/it]\n"
     ]
    },
    {
     "name": "stdout",
     "output_type": "stream",
     "text": [
      "pressure delta: -0.08543504220380337\n",
      "Pressure lrc: -0.17110433853442136\n",
      "Internal Energy LRC: -0.21417324082654493\n"
     ]
    },
    {
     "name": "stderr",
     "output_type": "stream",
     "text": [
      "100%|██████████| 10/10 [03:51<00:00, 23.15s/it]\n"
     ]
    },
    {
     "name": "stdout",
     "output_type": "stream",
     "text": [
      "pressure delta: -0.13349225344344273\n",
      "Pressure lrc: -0.2673505289600333\n",
      "Internal Energy LRC: -0.26771655103318115\n"
     ]
    },
    {
     "name": "stderr",
     "output_type": "stream",
     "text": [
      "100%|██████████| 10/10 [05:02<00:00, 30.30s/it]\n"
     ]
    },
    {
     "name": "stdout",
     "output_type": "stream",
     "text": [
      "pressure delta: -0.19222884495855752\n",
      "Pressure lrc: -0.38498476170244794\n",
      "Internal Energy LRC: -0.32125986123981737\n"
     ]
    },
    {
     "name": "stderr",
     "output_type": "stream",
     "text": [
      "100%|██████████| 10/10 [06:41<00:00, 40.18s/it]\n"
     ]
    },
    {
     "name": "stdout",
     "output_type": "stream",
     "text": [
      "pressure delta: -0.26164481674914775\n",
      "Pressure lrc: -0.5240070367616652\n",
      "Internal Energy LRC: -0.3748031714464536\n"
     ]
    },
    {
     "name": "stderr",
     "output_type": "stream",
     "text": [
      "100%|██████████| 10/10 [08:30<00:00, 51.02s/it]\n"
     ]
    },
    {
     "name": "stdout",
     "output_type": "stream",
     "text": [
      "pressure delta: -0.34174016881521346\n",
      "Pressure lrc: -0.6844173541376855\n",
      "Internal Energy LRC: -0.42834648165308986\n"
     ]
    },
    {
     "name": "stderr",
     "output_type": "stream",
     "text": [
      "100%|██████████| 10/10 [10:18<00:00, 61.83s/it]\n"
     ]
    },
    {
     "name": "stdout",
     "output_type": "stream",
     "text": [
      "pressure delta: -0.4325149011567545\n",
      "Pressure lrc: -0.866215713830508\n",
      "Internal Energy LRC: -0.4818897918597261\n"
     ]
    },
    {
     "name": "stderr",
     "output_type": "stream",
     "text": [
      "100%|██████████| 10/10 [12:15<00:00, 73.57s/it]\n"
     ]
    }
   ],
   "source": [
    "testDensity = np.arange(100, 1000, 100)\n",
    "p1   = []\n",
    "m1   = []\n",
    "t1   = []\n",
    "pot1 = []\n",
    "#pressure, moveRatio, totalEnergy, pots = MC_NVT(system)\n",
    "for i in testDensity:\n",
    "    system[\"numberOfParticles\"] = i\n",
    "    system[\"cells\"] = np.ceil( float( system[\"numberOfParticles\"] / np.prod(system[\"size\"]) )**(1./3.) * system[\"size\"] )\n",
    "    system[\"cells\"] = system[\"cells\"].astype(np.int64)\n",
    "    system[\"numberOfBlocks\"] = 10\n",
    "    p, m, t, pot, _, _ = MC_NVT(system)\n",
    "    p1.append(p)\n",
    "    m1.append(m)\n",
    "    t1.append(t)\n",
    "    pot1.append(pot)\n",
    "\n",
    "pres = [np.mean( np.array(i[2000:]) ) for i in p1]"
   ]
  },
  {
   "cell_type": "code",
   "execution_count": 36,
   "metadata": {},
   "outputs": [
    {
     "name": "stdout",
     "output_type": "stream",
     "text": [
      "pressure delta: -0.00533969013773771\n",
      "Pressure lrc: -0.010694021158401335\n",
      "Internal Energy LRC: -0.05354331020663623\n",
      "Running Time: 4.584663152694702 s\n",
      "pressure delta: -0.02135876055095084\n",
      "Pressure lrc: -0.04277608463360534\n",
      "Internal Energy LRC: -0.10708662041327247\n",
      "Running Time: 18.897969007492065 s\n",
      "pressure delta: -0.04805721123963938\n",
      "Pressure lrc: -0.09624619042561199\n",
      "Internal Energy LRC: -0.16062993061990868\n",
      "Running Time: 44.167722940444946 s\n",
      "pressure delta: -0.08543504220380337\n",
      "Pressure lrc: -0.17110433853442136\n",
      "Internal Energy LRC: -0.21417324082654493\n",
      "Running Time: 80.74603796005249 s\n",
      "pressure delta: -0.13349225344344273\n",
      "Pressure lrc: -0.2673505289600333\n",
      "Internal Energy LRC: -0.26771655103318115\n",
      "Running Time: 127.70517802238464 s\n",
      "pressure delta: -0.19222884495855752\n",
      "Pressure lrc: -0.38498476170244794\n",
      "Internal Energy LRC: -0.32125986123981737\n",
      "Running Time: 188.2700319290161 s\n",
      "pressure delta: -0.26164481674914775\n",
      "Pressure lrc: -0.5240070367616652\n",
      "Internal Energy LRC: -0.3748031714464536\n",
      "Running Time: 264.96153593063354 s\n",
      "pressure delta: -0.34174016881521346\n",
      "Pressure lrc: -0.6844173541376855\n",
      "Internal Energy LRC: -0.42834648165308986\n",
      "Running Time: 328.33712220191956 s\n",
      "pressure delta: -0.4325149011567545\n",
      "Pressure lrc: -0.866215713830508\n",
      "Internal Energy LRC: -0.4818897918597261\n",
      "Running Time: 416.463739156723 s\n"
     ]
    }
   ],
   "source": [
    "testDensity = np.arange(100, 1000, 100)\n",
    "p1   = []\n",
    "m1   = []\n",
    "t1   = []\n",
    "pot1 = []\n",
    "#pressure, moveRatio, totalEnergy, pots = MC_NVT(system)\n",
    "for i in testDensity:\n",
    "    system[\"numberOfParticles\"] = i\n",
    "    system[\"cells\"] = np.ceil( float( system[\"numberOfParticles\"] / np.prod(system[\"size\"]) )**(1./3.) * system[\"size\"] )\n",
    "    system[\"cells\"] = system[\"cells\"].astype(np.int64)\n",
    "    system[\"numberOfBlocks\"] = 10\n",
    "    p, m, t, pot = MC_NVT_CPP(system)\n",
    "    p1.append(p)\n",
    "    m1.append(m)\n",
    "    t1.append(t)\n",
    "    pot1.append(pot)\n",
    "\n",
    "pres = [np.mean( np.array(i[2000:]) ) for i in p1]"
   ]
  },
  {
   "cell_type": "code",
   "execution_count": 317,
   "metadata": {},
   "outputs": [
    {
     "data": {
      "text/plain": [
       "[<matplotlib.lines.Line2D at 0x312554d10>]"
      ]
     },
     "execution_count": 317,
     "metadata": {},
     "output_type": "execute_result"
    },
    {
     "data": {
      "image/png": "[encoded data removed]",
      "text/plain": [
       "<Figure size 640x480 with 1 Axes>"
      ]
     },
     "metadata": {},
     "output_type": "display_data"
    }
   ],
   "source": [
    "# ytime = np.array( [ 6.16, 14.40, 24.25, 35.58, 48.39, 1.04.16, 1.20.09, 1.37.51, 1.56.55 ] )\n",
    "h1 = np.array( [ 0, 0, 0, 0, 0, 1, 1, 1, 1 ] )\n",
    "m1 = np.array( [ 6, 14, 24, 35, 48, 4, 20, 37, 56 ] )\n",
    "s1 = np.array( [ 16, 40, 25, 58, 39, 16, 9, 51, 55 ] )\n",
    "\n",
    "yTime = h1 * 3600 + m1 * 60 + s1\n",
    "xTime = np.arange(100, 1000, 100)\n",
    "\n",
    "plt.plot(xTime, yTime, color=\"red\", linestyle = \"--\", marker=\"p\")"
   ]
  },
  {
   "cell_type": "code",
   "execution_count": 37,
   "metadata": {},
   "outputs": [
    {
     "data": {
      "text/plain": [
       "Text(0, 0.5, 'Pressure')"
      ]
     },
     "execution_count": 37,
     "metadata": {},
     "output_type": "execute_result"
    },
    {
     "data": {
      "image/png": "[encoded data removed]",
      "text/plain": [
       "<Figure size 640x480 with 1 Axes>"
      ]
     },
     "metadata": {},
     "output_type": "display_data"
    }
   ],
   "source": [
    "xx1 = np.array([0.1, 0.2, 0.4, 0.5, 0.6, 0.7, 0.8, 0.9])\n",
    "xx2 = np.arange(0.1, 1.0, 0.1)\n",
    "yy1 = np.array([0.1777, 0.3290, 0.705, 1.069, 1.756, 3.024, 5.28, 9.09])\n",
    "\n",
    "plt.plot(xx1, yy1, color=\"b\", linestyle=\":\", marker=\"\")\n",
    "plt.plot(xx2, pres, color=\"r\", linestyle=\"\", marker=\"p\")\n",
    "\n",
    "plt.xlabel(\"Density\")\n",
    "plt.ylabel(\"Pressure\")\n",
    "\n",
    "# Data from MBWR paper 89 "
   ]
  },
  {
   "cell_type": "code",
   "execution_count": 38,
   "metadata": {},
   "outputs": [],
   "source": [
    "totU = [\n",
    "[0.1, -0.669],\n",
    "[0.2, -1.308],\n",
    "[0.3, -1.922],\n",
    "[0.4, -2.539],\n",
    "[0.5, -3.149],\n",
    "[0.6, -3.747],\n",
    "[0.7, -4.3],\n",
    "[0.8, -4.752],\n",
    "[0.9, -5.025]\n",
    "]\n",
    "\n",
    "totU = np.array( totU )"
   ]
  },
  {
   "cell_type": "code",
   "execution_count": 39,
   "metadata": {},
   "outputs": [
    {
     "data": {
      "text/plain": [
       "Text(0, 0.5, 'Energy')"
      ]
     },
     "execution_count": 39,
     "metadata": {},
     "output_type": "execute_result"
    },
    {
     "data": {
      "image/png": "[encoded data removed]",
      "text/plain": [
       "<Figure size 640x480 with 1 Axes>"
      ]
     },
     "metadata": {},
     "output_type": "display_data"
    }
   ],
   "source": [
    "#np.mean( np.array(total[1000:] / 200) )\n",
    "#total = np.array( [i.pot for i in totalEnergy] )\n",
    "\n",
    "num = np.arange(100,1000,100)\n",
    "u   = []\n",
    "for i, t in enumerate(t1):\n",
    "    #total = t1 #np.array( [j.pot for j in t] )\n",
    "    u1 = np.mean( np.array(t[1000:]) ) / num[i]\n",
    "    u.append(u1)\n",
    "\n",
    "u = np.array(u)\n",
    "\n",
    "plt.plot(num/1000, u, color=\"b\", linestyle=\"\", marker=\"o\")\n",
    "plt.plot(totU[:,0], totU[:,1], color=\"r\", linestyle=\"--\", marker=\"\")\n",
    "\n",
    "plt.xlabel(\"Density\")\n",
    "plt.ylabel(\"Energy\")"
   ]
  },
  {
   "cell_type": "code",
   "execution_count": 34,
   "metadata": {},
   "outputs": [],
   "source": [
    "testChemPex =  [\n",
    "[0.0015643994119181048, -0.04676014027405717],\n",
    "[0.0235830983764104, -0.1399367366551898],\n",
    "[0.054167170524627384, -0.27976527644299587],\n",
    "[0.08841720712062667, -0.41949834840664124],\n",
    "[0.10676612292437027, -0.4971455120575854],\n",
    "[0.13734255764665443, -0.6057242507366922],\n",
    "[0.16791517365597208, -0.6986780888614508],\n",
    "[0.19970977781455057, -0.7916001043781549],\n",
    "[0.2388324921557271, -0.8687062836921857],\n",
    "[0.27550359277244924, -0.9146263071136254],\n",
    "[0.29872518632137013, -0.9296465781149568],\n",
    "[0.32316876801955186, -0.9446350265082337],\n",
    "[0.3500486885903221, -0.9283100285767016],\n",
    "[0.3964727821233317, -0.8802260678076124],\n",
    "[0.4416596126552148, -0.7696743274291791],\n",
    "[0.4782848887163397, -0.6280955441984197],\n",
    "[0.5148948899255987, -0.4240171587502619],\n",
    "[0.5417251672278055, -0.20456845361218345],\n",
    "[0.5746462917114836, 0.09316386733791227],\n",
    "[0.5990173178633028, 0.37504852947728207],\n",
    "[0.6209443677166007, 0.6568695464005456],\n",
    "[0.6392054531221161, 0.9385950954996467],\n",
    "[0.6586770705379931, 1.2672271688698515],\n",
    "[0.6757161677942479, 1.5489208953609],\n",
    "[0.6915218207623425, 1.8774575009069432],\n",
    "[0.7109743446133874, 2.2842140770488975],\n",
    "[0.7206929691129768, 2.5188421662285743],\n",
    "[0.7291896054633056, 2.7534384328001975],\n",
    "[0.7437694515691731, 3.097568116292538],\n",
    "[0.7510479184832074, 3.3165076597017578],\n",
    "[0.7619694375672255, 3.6292920742612376],\n",
    "[0.7789550728419501, 4.129734408513183],\n",
    "[0.7910833052233632, 4.505050247898115],\n",
    "[0.7959330706907417, 4.661426543873829]\n",
    "]\n",
    "\n",
    "testChemPex = np.array( testChemPex )\n",
    "\n",
    "# data from Frenkel's book"
   ]
  },
  {
   "cell_type": "code",
   "execution_count": 30,
   "metadata": {},
   "outputs": [],
   "source": [
    "import MBWR_EOS\n",
    "\n",
    "test = {\"temperature\": 2.0, \"sigma\": 1., \"component\":1, \"epsilon\":1., \"wave\":1.0}\n",
    "CP = []\n",
    "\n",
    "mbwr = MBWR_EOS.MBWR_EOS(test)\n",
    "for i in xx2:\n",
    "    mbwr.rho = i\n",
    "    chemP = mbwr.exChemicalPotential()\n",
    "    CP.append(chemP)\n",
    "\n",
    "CP = np.array( CP )\n"
   ]
  },
  {
   "cell_type": "code",
   "execution_count": 31,
   "metadata": {},
   "outputs": [],
   "source": [
    "yy = np.array([ -0.124232,  -0.186052, -0.172991, -0.0584114, 0.244226, 0.771789, 1.7077 ])\n",
    "xx = np.array([ 0.1, 0.2, 0.3, 0.4, 0.5, 0.6, 0.7 ])"
   ]
  },
  {
   "cell_type": "code",
   "execution_count": 53,
   "metadata": {},
   "outputs": [],
   "source": [
    "def uTail ( rho, rCut ):\n",
    "    tail = (8./3.) * np.pi * rho * ( (1./3.) * (1./rCut)**9 - (1./rCut)**3 )\n",
    "    return tail\n",
    "\n",
    "tCPex = [ np.mean( np.array( i[2000:] ) ) for i in pot1 ]\n",
    "tCPex = - np.log( tCPex )\n",
    "\n",
    "xx2 = np.arange( 0.1, 1, 0.1 )\n",
    "uts = []\n",
    "for i in xx2:\n",
    "    ut = uTail ( i, 2.5 )\n",
    "    uts.append(ut)\n",
    "\n",
    "tCPex = tCPex + 2*np.array( uts )"
   ]
  },
  {
   "cell_type": "code",
   "execution_count": 54,
   "metadata": {},
   "outputs": [
    {
     "data": {
      "text/plain": [
       "[<matplotlib.lines.Line2D at 0x16a9b9e90>]"
      ]
     },
     "execution_count": 54,
     "metadata": {},
     "output_type": "execute_result"
    },
    {
     "data": {
      "image/png": "[encoded data removed]",
      "text/plain": [
       "<Figure size 640x480 with 1 Axes>"
      ]
     },
     "metadata": {},
     "output_type": "display_data"
    }
   ],
   "source": [
    "xx2 = np.arange(0.1, 1, 0.1)\n",
    "plt.plot( xx2[:-1], tCPex[:-1], 'o' )\n",
    "plt.plot( testChemPex[:,0], testChemPex[:,1]/2., \"--\")\n",
    "plt.plot( xx2[:-1], CP[:-1,0,0], '*' )\n",
    "\n",
    "plt.plot( xx, yy + 2*np.array(uts[:7]), \">\" )"
   ]
  },
  {
   "cell_type": "code",
   "execution_count": 55,
   "metadata": {},
   "outputs": [
    {
     "data": {
      "text/plain": [
       "1.3267794212016493"
      ]
     },
     "execution_count": 55,
     "metadata": {},
     "output_type": "execute_result"
    },
    {
     "data": {
      "image/png": "[encoded data removed]",
      "text/plain": [
       "<Figure size 640x480 with 1 Axes>"
      ]
     },
     "metadata": {},
     "output_type": "display_data"
    }
   ],
   "source": [
    "plt.plot(pots)\n",
    "np.mean(pots)"
   ]
  },
  {
   "cell_type": "code",
   "execution_count": null,
   "metadata": {},
   "outputs": [],
   "source": []
  },
  {
   "cell_type": "code",
   "execution_count": 158,
   "metadata": {},
   "outputs": [],
   "source": [
    "g_data = np.array([\n",
    "[0.9053097583917941, 0.09677895709469198],\n",
    "[0.9266080362185743, 0.284216474484988],\n",
    "[0.938333714070804, 0.45684809909743507],\n",
    "[0.9450616873413035, 0.6146665537919591],\n",
    "[0.9551308969960147, 0.8025949473581164],\n",
    "[0.9639660801097921, 1.0198522000946943],\n",
    "[0.9723958015604889, 1.2594994486819941],\n",
    "[0.9795657692073664, 1.4732905775496652],\n",
    "[0.9871521326040503, 1.6881453265948847],\n",
    "[0.997224962452182, 1.883839035047713],\n",
    "[1.0064567864531933, 2.059785727742694],\n",
    "[1.016510982412349, 2.2155097443423006],\n",
    "[1.0332360003651648, 2.406462726816395],\n",
    "[1.0665458561000984, 2.4876822256175695],\n",
    "[1.0997508247913292, 2.3439190156763523],\n",
    "[1.120473914526448, 2.189683339611305],\n",
    "[1.1411897271214935, 2.019838198088787],\n",
    "[1.1619028934837847, 1.8443168873090066],\n",
    "[1.182619588156415, 1.6763638022055758],\n",
    "[1.2033428984109298, 1.5226011402453006],\n",
    "[1.2261482057910942, 1.3741959970148303],\n",
    "[1.2531130550309415, 1.226955511223815],\n",
    "[1.2863145953297135, 1.0758383994574725],\n",
    "[1.3278401907396624, 0.9377142380084962],\n",
    "[1.3735351174157922, 0.8217530109386595],\n",
    "[1.419250191545844, 0.7490080725320687],\n",
    "[1.4649800003810038, 0.7078690765806877],\n",
    "[1.5107165250341374, 0.6811355101837218],\n",
    "[1.5564642761292578, 0.6784826618478688],\n",
    "[1.6022200461115106, 0.6930303264128099],\n",
    "[1.6479811286064896, 0.7189733307745279],\n",
    "[1.693753537779545, 0.7692120596086172],\n",
    "[1.7395290542713635, 0.8261159871917645],\n",
    "[1.785311186345067, 0.8972103379180676],\n",
    "[1.8310940200713954, 0.9698097335231903],\n",
    "[1.876879760644309, 1.048644315054851],\n",
    "[1.9226601887044974, 1.116083556789735],\n",
    "[1.9684335000023543, 1.168257343325164],\n",
    "[2.0141965872191165, 1.1985004759120805],\n",
    "[2.05994995153523, 1.2078879866067833],\n",
    "[2.1056906861041087, 1.1901846894827348],\n",
    "[2.1514231010775866, 1.1546358602241118],\n",
    "[2.1971483992887335, 1.1038215757660343],\n",
    "[2.2428752010412176, 1.056232387476855],\n",
    "[2.2886020027937026, 1.0086431991876763],\n",
    "[2.3343299071431676, 0.9634190814223564],\n",
    "[2.380064427074518, 0.9323853868001923],\n",
    "[2.4258026557411676, 0.9093069293946456],\n",
    "[2.471543490546135, 0.891818638681857],\n",
    "[2.508972591323648, 0.8877661222357798]\n",
    "])\n",
    "\n",
    "# data from Dean Frenkel Understanding molecular simulation, e82 Figure N.6\n"
   ]
  },
  {
   "cell_type": "code",
   "execution_count": 137,
   "metadata": {},
   "outputs": [],
   "source": [
    "system = {}\n",
    "\n",
    "system[\"numberOfParticles\"] = 512\n",
    "system[\"density\"]           = 0.8442\n",
    "system[\"temperature\"]       = 1.5043\n",
    "system[\"rCut\"]              = 2.5\n",
    "system[\"cells\"]             = np.array([8, 8, 8])\n",
    "system[\"size\"]              = system[\"cells\"] / ( system[\"density\"] ) ** (1./3.)\n",
    "system[\"drMax\"]             = 0.25\n",
    "system[\"numberOfBlocks\"]    = 10\n",
    "system[\"numberOfSteps\"]     = 1000\n"
   ]
  },
  {
   "cell_type": "code",
   "execution_count": 138,
   "metadata": {},
   "outputs": [
    {
     "name": "stdout",
     "output_type": "stream",
     "text": [
      "[8.46463439 8.46463439 8.46463439]\n",
      "0.8442000000000002\n"
     ]
    }
   ],
   "source": [
    "print( system[\"size\"] )\n",
    "print( np.prod(system[\"cells\"]) / np.prod( system[\"size\"] ) )"
   ]
  },
  {
   "cell_type": "code",
   "execution_count": 139,
   "metadata": {},
   "outputs": [
    {
     "name": "stdout",
     "output_type": "stream",
     "text": [
      "pressure delta: -0.38054564069336366\n",
      "Pressure lrc: -0.7621346985194898\n",
      "Internal Energy LRC: -0.45201262476442317\n"
     ]
    },
    {
     "name": "stderr",
     "output_type": "stream",
     "text": [
      "100%|██████████| 10/10 [05:12<00:00, 31.27s/it]\n"
     ]
    }
   ],
   "source": [
    "pressure, moveRatio, totalEnergy, pots, positions = MC_NVT(system)"
   ]
  },
  {
   "cell_type": "code",
   "execution_count": 156,
   "metadata": {},
   "outputs": [],
   "source": [
    "import math\n",
    "\n",
    "box  = system[\"size\"][0]       # Box must be a cube, in this version\n",
    "n    = 512                     # number of particles\n",
    "dr   = 0.02                    # in sigma units\n",
    "dr   = dr / box                # in box = 1 units\n",
    "\n",
    "nk   = math.floor( 0.5 / dr )  # Accumulate out to half box length\n",
    "rMax = nk * dr                 # Actual rMax ( box = 1 units )\n",
    "\n",
    "h     = np.zeros( nk, dtype=np.int64 )  # Histogram bins initialized to zeros\n",
    "nStep = 0                               # Counts configurations\n",
    "\n",
    "pos1 = positions\n",
    "\n",
    "while True:\n",
    "    if (nStep >= 1000) or (nStep >= len(pos1)):\n",
    "        break\n",
    "\n",
    "    r = np.array( pos1[nStep] )\n",
    "\n",
    "    nShift = n//2\n",
    "    for shift in range(nShift):\n",
    "        rij         = r - np.roll(r, shift+1, axis=0)\n",
    "        rij         = rij - np.rint(rij)\n",
    "        rij_mag     = np.sqrt( np.sum(rij**2, axis=1) )\n",
    "        hist, edges = np.histogram( rij_mag, bins=nk, range=(0.0, rMax) )\n",
    "        factor      = 1 if n%2==0 and shift == nShift-1 else 2\n",
    "        h           = h + factor* hist\n",
    "    nStep = nStep + 1 # Increment configuration counter ready for next time\n",
    "\n",
    "h_id = ( 4.0 * np.pi * float(n) / 3.0 ) * ( edges[1:nk+1]**3 - edges[0:nk]**3 )\n",
    "g = h / h_id / ( n*nStep )\n",
    "\n",
    "edges = edges * box                           # Convert bin edges back to sigma = 1 units\n",
    "rMid  = 0.5 * ( edges[0:nk] + edges[1:nk+1] ) # Mid points of bins"
   ]
  },
  {
   "cell_type": "code",
   "execution_count": 163,
   "metadata": {},
   "outputs": [
    {
     "data": {
      "text/plain": [
       "<matplotlib.collections.PathCollection at 0x31027e350>"
      ]
     },
     "execution_count": 163,
     "metadata": {},
     "output_type": "execute_result"
    },
    {
     "data": {
      "image/png": "[encoded data removed]",
      "text/plain": [
       "<Figure size 640x480 with 1 Axes>"
      ]
     },
     "metadata": {},
     "output_type": "display_data"
    }
   ],
   "source": [
    "plt.plot( rMid, g )\n",
    "\n",
    "plt.scatter( g_data[:,0], g_data[:,1], marker=\"o\", edgecolors=\"r\", color='none' )"
   ]
  },
  {
   "cell_type": "code",
   "execution_count": 150,
   "metadata": {},
   "outputs": [
    {
     "data": {
      "text/plain": [
       "(350, 512, 3)"
      ]
     },
     "execution_count": 150,
     "metadata": {},
     "output_type": "execute_result"
    }
   ],
   "source": [
    "np.array(positions[100:]).shape"
   ]
  },
  {
   "cell_type": "code",
   "execution_count": null,
   "metadata": {},
   "outputs": [],
   "source": []
  },
  {
   "cell_type": "code",
   "execution_count": null,
   "metadata": {},
   "outputs": [],
   "source": []
  },
  {
   "cell_type": "code",
   "execution_count": null,
   "metadata": {},
   "outputs": [],
   "source": [
    "\"\"\"\n",
    "1 2 3 4 5 6\n",
    "6 1 2 3 4 5 (1, 6) (1, 2)\n",
    "5 6 1 2 3 4 (1, 5) (1, 3)\n",
    "4 5 6 1 2 3 (1, 4) (1, 4)\n",
    "\"\"\"\n",
    "\n",
    "\"\"\"\n",
    "1 2 3 4 5\n",
    "5 1 2 3 4 (1, 5) (1, 2)\n",
    "4 5 1 2 3 (1, 4) (1, 3)\n",
    "\"\"\""
   ]
  }
 ],
 "metadata": {
  "kernelspec": {
   "display_name": "base",
   "language": "python",
   "name": "python3"
  },
  "language_info": {
   "codemirror_mode": {
    "name": "ipython",
    "version": 3
   },
   "file_extension": ".py",
   "mimetype": "text/x-python",
   "name": "python",
   "nbconvert_exporter": "python",
   "pygments_lexer": "ipython3",
   "version": "3.11.5"
  }
 },
 "nbformat": 4,
 "nbformat_minor": 2
}
